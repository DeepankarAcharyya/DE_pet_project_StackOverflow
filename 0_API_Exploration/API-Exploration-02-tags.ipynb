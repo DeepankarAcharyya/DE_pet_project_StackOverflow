{
 "cells": [
  {
   "cell_type": "code",
   "execution_count": 15,
   "id": "68e7ea1e",
   "metadata": {},
   "outputs": [],
   "source": [
    "import requests\n",
    "import json\n",
    "import datetime\n",
    "import time"
   ]
  },
  {
   "cell_type": "code",
   "execution_count": 22,
   "id": "8a99b830",
   "metadata": {},
   "outputs": [],
   "source": [
    "base_url = \"https://api.stackexchange.com/2.3/{section_name}?page={page_count}&pagesize={pagesize_thres}&fromdate={start_date}&todate={end_date}&order=desc&sort=activity&site=stackoverflow\"\n",
    "pageCount = 1\n",
    "pagesize = 10\n",
    "section = 'tags'\n",
    "fromdate = int(datetime.datetime(2021, 7, 8, 0, 0, 0).timestamp())\n",
    "todate = int(datetime.datetime(2021, 7, 9, 0, 0, 0).timestamp())"
   ]
  },
  {
   "cell_type": "code",
   "execution_count": 23,
   "id": "44f159e3",
   "metadata": {},
   "outputs": [],
   "source": [
    "url = base_url.format(section_name=section, page_count = pageCount, pagesize_thres=pagesize,start_date=fromdate,end_date=todate)"
   ]
  },
  {
   "cell_type": "code",
   "execution_count": 19,
   "id": "ee276082",
   "metadata": {},
   "outputs": [
    {
     "data": {
      "text/plain": [
       "'https://api.stackexchange.com/2.3/tags?page=1&pagesize=10&fromdate=1625596200&todate=1625682600&order=desc&sort=popular&site=stackoverflow'"
      ]
     },
     "execution_count": 19,
     "metadata": {},
     "output_type": "execute_result"
    }
   ],
   "source": [
    "url"
   ]
  },
  {
   "cell_type": "code",
   "execution_count": 20,
   "id": "39fb80a6",
   "metadata": {},
   "outputs": [
    {
     "name": "stdout",
     "output_type": "stream",
     "text": [
      "{'items': [{'has_synonyms': False, 'is_moderator_only': False, 'is_required': False, 'count': 37, 'name': 'apimonitor'}, {'has_synonyms': False, 'is_moderator_only': False, 'is_required': False, 'count': 11, 'name': 'user-messaging-platform'}, {'has_synonyms': False, 'is_moderator_only': False, 'is_required': False, 'count': 11, 'name': 'microbundle'}, {'has_synonyms': False, 'is_moderator_only': False, 'is_required': False, 'count': 10, 'name': 'flutter-qrcode'}, {'has_synonyms': False, 'is_moderator_only': False, 'is_required': False, 'count': 8, 'name': 'fvm'}, {'has_synonyms': False, 'is_moderator_only': False, 'is_required': False, 'count': 8, 'name': 'nmi-payments'}, {'has_synonyms': False, 'is_moderator_only': False, 'is_required': False, 'count': 3, 'name': 'xrm-tooling-connector'}], 'has_more': False, 'backoff': 10, 'quota_max': 300, 'quota_remaining': 260}\n"
     ]
    }
   ],
   "source": [
    "response = requests.get(url)\n",
    "content = response.json()\n",
    "print(content)"
   ]
  },
  {
   "cell_type": "code",
   "execution_count": 24,
   "id": "5263bb21",
   "metadata": {},
   "outputs": [
    {
     "name": "stdout",
     "output_type": "stream",
     "text": [
      "{'items': [{'has_synonyms': False, 'is_moderator_only': False, 'is_required': False, 'count': 90, 'name': 'automation-testing'}, {'has_synonyms': False, 'is_moderator_only': False, 'is_required': False, 'count': 11, 'name': 'stoi'}, {'has_synonyms': False, 'is_moderator_only': False, 'is_required': False, 'count': 6, 'name': 'data-compaction'}, {'has_synonyms': False, 'is_moderator_only': False, 'is_required': False, 'count': 3, 'name': 'rabbitmq.client'}, {'has_synonyms': False, 'is_moderator_only': False, 'is_required': False, 'count': 2, 'name': 'apache-camel-file'}], 'has_more': False, 'backoff': 10, 'quota_max': 300, 'quota_remaining': 259}\n"
     ]
    }
   ],
   "source": [
    "response = requests.get(url)\n",
    "content = response.json()\n",
    "print(content)"
   ]
  },
  {
   "cell_type": "code",
   "execution_count": 21,
   "id": "1dc32374",
   "metadata": {},
   "outputs": [
    {
     "data": {
      "text/plain": [
       "{'has_synonyms': False,\n",
       " 'is_moderator_only': False,\n",
       " 'is_required': False,\n",
       " 'count': 37,\n",
       " 'name': 'apimonitor'}"
      ]
     },
     "execution_count": 21,
     "metadata": {},
     "output_type": "execute_result"
    }
   ],
   "source": [
    "content['items'][0]"
   ]
  },
  {
   "cell_type": "markdown",
   "id": "ad70bb4f",
   "metadata": {},
   "source": [
    "### has_synonyms : boolean : denotes if the tag has any synonyms (in use\n",
    "### is_moderator_only : boolean : denotes if the tag is to be used by the moderators only\n",
    "### is_required : boolean : denotes that the tag requires some form of action to be performed\n",
    "### count :  int : the count for the tag, generally used as a metric for quantifying popularity\n",
    "### name : string : name of the tag"
   ]
  },
  {
   "cell_type": "code",
   "execution_count": null,
   "id": "bb6cfbf6",
   "metadata": {},
   "outputs": [],
   "source": []
  }
 ],
 "metadata": {
  "kernelspec": {
   "display_name": "Python 3 (ipykernel)",
   "language": "python",
   "name": "python3"
  },
  "language_info": {
   "codemirror_mode": {
    "name": "ipython",
    "version": 3
   },
   "file_extension": ".py",
   "mimetype": "text/x-python",
   "name": "python",
   "nbconvert_exporter": "python",
   "pygments_lexer": "ipython3",
   "version": "3.9.12"
  }
 },
 "nbformat": 4,
 "nbformat_minor": 5
}
