{
 "cells": [
  {
   "cell_type": "code",
   "execution_count": 2,
   "id": "eadbd401",
   "metadata": {},
   "outputs": [],
   "source": [
    "import requests\n",
    "import json\n",
    "import datetime\n",
    "import time"
   ]
  },
  {
   "cell_type": "code",
   "execution_count": 3,
   "id": "6d8d98cc",
   "metadata": {},
   "outputs": [],
   "source": [
    "base_url = \"https://api.stackexchange.com/2.3/{section_name}?page={page_count}&pagesize={pagesize_thres}&fromdate={start_date}&todate={end_date}&order=desc&sort=activity&site=stackoverflow\"\n",
    "pageCount = 1\n",
    "pagesize = 10\n",
    "section = 'questions'\n",
    "fromdate = int(datetime.datetime(2021, 7, 8, 0, 0, 0).timestamp())\n",
    "todate = int(datetime.datetime(2021, 7, 9, 0, 0, 0).timestamp())"
   ]
  },
  {
   "cell_type": "code",
   "execution_count": 4,
   "id": "6105a443",
   "metadata": {},
   "outputs": [],
   "source": [
    "url = base_url.format(section_name=section, page_count = pageCount, pagesize_thres=pagesize,start_date=fromdate,end_date=todate)"
   ]
  },
  {
   "cell_type": "code",
   "execution_count": 5,
   "id": "76477c3a",
   "metadata": {},
   "outputs": [
    {
     "data": {
      "text/plain": [
       "'https://api.stackexchange.com/2.3/questions?page=1&pagesize=10&fromdate=1625682600&todate=1625769000&order=desc&sort=activity&site=stackoverflow'"
      ]
     },
     "execution_count": 5,
     "metadata": {},
     "output_type": "execute_result"
    }
   ],
   "source": [
    "url"
   ]
  },
  {
   "cell_type": "code",
   "execution_count": 6,
   "id": "c0291dc5",
   "metadata": {},
   "outputs": [
    {
     "name": "stdout",
     "output_type": "stream",
     "text": [
      "{'items': [{'tags': ['python', 'loops', 'counter'], 'owner': {'account_id': 22054231, 'reputation': 1, 'user_id': 16318037, 'user_type': 'registered', 'profile_image': 'https://lh3.googleusercontent.com/a-/AOh14GjQJwkF5po21_YKU2VGO9S2xuywJIsB_wa9f5fAJg=k-s256', 'display_name': 'user_1738', 'link': 'https://stackoverflow.com/users/16318037/user-1738'}, 'is_answered': True, 'view_count': 64, 'accepted_answer_id': 68295228, 'answer_count': 2, 'score': -1, 'last_activity_date': 1661721521, 'creation_date': 1625707612, 'last_edit_date': 1661721521, 'question_id': 68294542, 'content_license': 'CC BY-SA 4.0', 'link': 'https://stackoverflow.com/questions/68294542/why-is-my-counter-not-updated-by-count-count-1', 'title': 'Why is my counter not updated by &quot;count == count + 1&quot;?'}, {'tags': ['xcode', 'react-native'], 'owner': {'account_id': 16485449, 'reputation': 145, 'user_id': 11910970, 'user_type': 'registered', 'profile_image': 'https://lh3.googleusercontent.com/a-/AAuE7mCnjJkP8pWx2Mh1UDghGFQc51b3Z4qO4tB1f3w2hA=k-s256', 'display_name': 'Mark Kiraly', 'link': 'https://stackoverflow.com/users/11910970/mark-kiraly'}, 'is_answered': True, 'view_count': 9226, 'answer_count': 8, 'score': 11, 'last_activity_date': 1661718032, 'creation_date': 1625755521, 'question_id': 68303861, 'content_license': 'CC BY-SA 4.0', 'link': 'https://stackoverflow.com/questions/68303861/react-native-ios-real-device-does-not-connect-to-metro-server', 'title': 'React-Native IOS real device does not connect to Metro server'}, {'tags': ['reactjs'], 'owner': {'account_id': 22158930, 'reputation': 71, 'user_id': 16406222, 'user_type': 'registered', 'profile_image': 'https://www.gravatar.com/avatar/ec04973819d775c3e4337679c02dd6e2?s=256&d=identicon&r=PG&f=1', 'display_name': 'Manuj Tiwari', 'link': 'https://stackoverflow.com/users/16406222/manuj-tiwari'}, 'is_answered': True, 'view_count': 13031, 'answer_count': 6, 'score': 7, 'last_activity_date': 1661444970, 'creation_date': 1625740615, 'question_id': 68300019, 'content_license': 'CC BY-SA 4.0', 'link': 'https://stackoverflow.com/questions/68300019/module-not-found-cant-resolve-tsparticles-in-home-manujtiwari-desktop-port', 'title': 'Module not found: Can&#39;t resolve &#39;tsparticles&#39; in &#39;/home/manujtiwari/Desktop/portfolio-react/node_modules/react-particles-js/cjs&#39;'}, {'tags': ['sql', 'sql-server', 'select'], 'owner': {'user_type': 'does_not_exist', 'display_name': 'user13904092'}, 'is_answered': True, 'view_count': 56, 'accepted_answer_id': 68292479, 'answer_count': 1, 'score': -1, 'last_activity_date': 1661376906, 'creation_date': 1625688473, 'last_edit_date': 1625688576, 'question_id': 68292455, 'content_license': 'CC BY-SA 4.0', 'link': 'https://stackoverflow.com/questions/68292455/creating-a-unique-identifier-if-a-specific-condition-is-met-in-select-query', 'title': 'Creating a unique identifier if a specific condition is met in Select-Query'}, {'tags': ['javascript', 'vue.js'], 'owner': {'account_id': 20109874, 'reputation': 5, 'user_id': 14746482, 'user_type': 'registered', 'profile_image': 'https://lh3.googleusercontent.com/-k7pp4Uks6VE/AAAAAAAAAAI/AAAAAAAAAAA/AMZuucmUzFI1RALID6rD5FQogKZ5yigCCw/s96-c/photo.jpg?sz=256', 'display_name': 'Claud', 'link': 'https://stackoverflow.com/users/14746482/claud'}, 'is_answered': True, 'view_count': 165, 'accepted_answer_id': 68296571, 'answer_count': 2, 'score': 0, 'last_activity_date': 1661341993, 'creation_date': 1625718793, 'last_edit_date': 1625719134, 'question_id': 68295687, 'content_license': 'CC BY-SA 4.0', 'link': 'https://stackoverflow.com/questions/68295687/clear-selected-range-picker-in-vue-rangedate-picker-vuejs', 'title': 'Clear selected range picker in vue-rangedate-picker (Vuejs)'}, {'tags': ['amazon-web-services', 'azure', 'docker', 'google-cloud-platform', 'gcloud'], 'owner': {'account_id': 1326298, 'reputation': 120, 'user_id': 1271035, 'user_type': 'registered', 'profile_image': 'https://www.gravatar.com/avatar/6a816f6969805ac884c7302c8388e9be?s=256&d=identicon&r=PG', 'display_name': 'Vikram', 'link': 'https://stackoverflow.com/users/1271035/vikram'}, 'is_answered': True, 'view_count': 161, 'accepted_answer_id': 68318736, 'answer_count': 1, 'score': 1, 'last_activity_date': 1661262757, 'creation_date': 1625748800, 'last_edit_date': 1625836821, 'question_id': 68302051, 'content_license': 'CC BY-SA 4.0', 'link': 'https://stackoverflow.com/questions/68302051/in-a-containerized-application-that-runs-in-aws-azure-but-needs-to-access-gcloud', 'title': 'In a containerized application that runs in AWS/Azure but needs to access GCLOUD commands, what is the best way to setup gcloud authentication?'}, {'tags': ['machine-learning', 'classification', 'detection', 'phishing'], 'owner': {'account_id': 21381742, 'reputation': 57, 'user_id': 15747544, 'user_type': 'registered', 'profile_image': 'https://lh4.googleusercontent.com/-F0LPI_5yCYk/AAAAAAAAAAI/AAAAAAAAAAA/AMZuuclv_9spNG_A2_7rRdTzK27avG7QEQ/s96-c/photo.jpg?sz=256', 'display_name': 'Umais Bhatti', 'link': 'https://stackoverflow.com/users/15747544/umais-bhatti'}, 'is_answered': False, 'view_count': 106, 'answer_count': 1, 'score': 4, 'last_activity_date': 1661150066, 'creation_date': 1625722993, 'last_edit_date': 1625733623, 'question_id': 68296209, 'content_license': 'CC BY-SA 4.0', 'link': 'https://stackoverflow.com/questions/68296209/phishing-website-detection-using-machine-learning', 'title': 'Phishing Website Detection using Machine Learning'}, {'tags': ['plantuml'], 'owner': {'account_id': 3649743, 'reputation': 1621, 'user_id': 3042207, 'user_type': 'registered', 'accept_rate': 42, 'profile_image': 'https://i.stack.imgur.com/4uapS.png?s=256&g=1', 'display_name': 'Fabrizio Stellato', 'link': 'https://stackoverflow.com/users/3042207/fabrizio-stellato'}, 'is_answered': True, 'view_count': 84, 'answer_count': 2, 'score': 1, 'last_activity_date': 1661096383, 'creation_date': 1625753162, 'question_id': 68303207, 'content_license': 'CC BY-SA 4.0', 'link': 'https://stackoverflow.com/questions/68303207/plantuml-long-description-with-nest-brackets', 'title': 'PlantUML - Long description with nest brackets'}, {'tags': ['vmware-workstation'], 'owner': {'account_id': 21437799, 'reputation': 28, 'user_id': 15792969, 'user_type': 'registered', 'profile_image': 'https://www.gravatar.com/avatar/90e99c922589833b63f53a8cf01482b0?s=256&d=identicon&r=PG&f=1', 'display_name': 'Setvizan', 'link': 'https://stackoverflow.com/users/15792969/setvizan'}, 'is_answered': True, 'view_count': 3960, 'accepted_answer_id': 68451494, 'answer_count': 1, 'score': 1, 'last_activity_date': 1661075948, 'creation_date': 1625744550, 'question_id': 68300983, 'content_license': 'CC BY-SA 4.0', 'link': 'https://stackoverflow.com/questions/68300983/universal-license-key-for-vmware-workstation-pro-16-why-is-it-free', 'title': 'Universal License key for VMware Workstation pro 16, why is it free?'}, {'tags': ['heroku'], 'owner': {'account_id': 8308873, 'reputation': 240, 'user_id': 6244838, 'user_type': 'registered', 'accept_rate': 71, 'profile_image': 'https://www.gravatar.com/avatar/209cd080c9d6443906f5be5daebaeedf?s=256&d=identicon&r=PG&f=1', 'display_name': 'D4NieLDev', 'link': 'https://stackoverflow.com/users/6244838/d4nieldev'}, 'is_answered': False, 'view_count': 150, 'answer_count': 1, 'score': 0, 'last_activity_date': 1660979092, 'creation_date': 1625733663, 'question_id': 68298268, 'content_license': 'CC BY-SA 4.0', 'link': 'https://stackoverflow.com/questions/68298268/i-got-locked-out-of-my-heroku-account-lost-2fa-code', 'title': 'I got locked out of my heroku account (lost 2FA code)'}], 'has_more': True, 'quota_max': 300, 'quota_remaining': 262}\n"
     ]
    }
   ],
   "source": [
    "response = requests.get(url)\n",
    "content = response.json()\n",
    "print(content)"
   ]
  },
  {
   "cell_type": "code",
   "execution_count": 7,
   "id": "4c37ab20",
   "metadata": {},
   "outputs": [
    {
     "data": {
      "text/plain": [
       "{'tags': ['python', 'loops', 'counter'],\n",
       " 'owner': {'account_id': 22054231,\n",
       "  'reputation': 1,\n",
       "  'user_id': 16318037,\n",
       "  'user_type': 'registered',\n",
       "  'profile_image': 'https://lh3.googleusercontent.com/a-/AOh14GjQJwkF5po21_YKU2VGO9S2xuywJIsB_wa9f5fAJg=k-s256',\n",
       "  'display_name': 'user_1738',\n",
       "  'link': 'https://stackoverflow.com/users/16318037/user-1738'},\n",
       " 'is_answered': True,\n",
       " 'view_count': 64,\n",
       " 'accepted_answer_id': 68295228,\n",
       " 'answer_count': 2,\n",
       " 'score': -1,\n",
       " 'last_activity_date': 1661721521,\n",
       " 'creation_date': 1625707612,\n",
       " 'last_edit_date': 1661721521,\n",
       " 'question_id': 68294542,\n",
       " 'content_license': 'CC BY-SA 4.0',\n",
       " 'link': 'https://stackoverflow.com/questions/68294542/why-is-my-counter-not-updated-by-count-count-1',\n",
       " 'title': 'Why is my counter not updated by &quot;count == count + 1&quot;?'}"
      ]
     },
     "execution_count": 7,
     "metadata": {},
     "output_type": "execute_result"
    }
   ],
   "source": [
    "content['items'][0]"
   ]
  },
  {
   "cell_type": "code",
   "execution_count": 8,
   "id": "e1263c8f",
   "metadata": {},
   "outputs": [
    {
     "data": {
      "text/plain": [
       "dict_keys(['tags', 'owner', 'is_answered', 'view_count', 'accepted_answer_id', 'answer_count', 'score', 'last_activity_date', 'creation_date', 'last_edit_date', 'question_id', 'content_license', 'link', 'title'])"
      ]
     },
     "execution_count": 8,
     "metadata": {},
     "output_type": "execute_result"
    }
   ],
   "source": [
    "content['items'][0].keys()"
   ]
  },
  {
   "cell_type": "code",
   "execution_count": null,
   "id": "d8c76814",
   "metadata": {},
   "outputs": [],
   "source": []
  }
 ],
 "metadata": {
  "kernelspec": {
   "display_name": "Python 3 (ipykernel)",
   "language": "python",
   "name": "python3"
  },
  "language_info": {
   "codemirror_mode": {
    "name": "ipython",
    "version": 3
   },
   "file_extension": ".py",
   "mimetype": "text/x-python",
   "name": "python",
   "nbconvert_exporter": "python",
   "pygments_lexer": "ipython3",
   "version": "3.9.12"
  }
 },
 "nbformat": 4,
 "nbformat_minor": 5
}
