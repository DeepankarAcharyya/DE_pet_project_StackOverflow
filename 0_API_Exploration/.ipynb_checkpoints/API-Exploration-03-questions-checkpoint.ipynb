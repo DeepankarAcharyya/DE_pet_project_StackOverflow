{
 "cells": [
  {
   "cell_type": "code",
   "execution_count": 1,
   "id": "eadbd401",
   "metadata": {},
   "outputs": [],
   "source": [
    "import requests\n",
    "import json\n",
    "import datetime\n",
    "import time"
   ]
  },
  {
   "cell_type": "code",
   "execution_count": null,
   "id": "6d8d98cc",
   "metadata": {},
   "outputs": [],
   "source": [
    "base_url = \"https://api.stackexchange.com/2.3/{section_name}?page={page_count}&pagesize={pagesize_thres}&fromdate={start_date}&todate={end_date}&order=desc&sort=popular&site=stackoverflow\"\n",
    "pageCount = 1\n",
    "pagesize = 10\n",
    "section = 'tags'\n",
    "fromdate = int(datetime.datetime(2021, 7, 8, 0, 0, 0).timestamp())\n",
    "todate = int(datetime.datetime(2021, 7, 9, 0, 0, 0).timestamp())"
   ]
  },
  {
   "cell_type": "code",
   "execution_count": null,
   "id": "6105a443",
   "metadata": {},
   "outputs": [],
   "source": [
    "url = base_url.format(section_name=section, page_count = pageCount, pagesize_thres=pagesize,start_date=fromdate,end_date=todate)"
   ]
  }
 ],
 "metadata": {
  "kernelspec": {
   "display_name": "Python 3 (ipykernel)",
   "language": "python",
   "name": "python3"
  },
  "language_info": {
   "codemirror_mode": {
    "name": "ipython",
    "version": 3
   },
   "file_extension": ".py",
   "mimetype": "text/x-python",
   "name": "python",
   "nbconvert_exporter": "python",
   "pygments_lexer": "ipython3",
   "version": "3.9.12"
  }
 },
 "nbformat": 4,
 "nbformat_minor": 5
}
